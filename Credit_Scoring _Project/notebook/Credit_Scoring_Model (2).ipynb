{
  "cells": [
    {
      "cell_type": "markdown",
      "metadata": {
        "id": "8Bo1inbT43Gu"
      },
      "source": [
        "# **What is Credit Scoring?**"
      ]
    },
    {
      "cell_type": "markdown",
      "metadata": {
        "id": "I7cLH7PW6VEi"
      },
      "source": [
        "Credit scoring is one of the most widely used machine learning applications in finance. It helps institutions assess the creditworthiness of individuals using data-driven methods.\n"
      ]
    },
    {
      "cell_type": "markdown",
      "metadata": {
        "id": "t9pMRXhO-mCA"
      },
      "source": [
        "# **What I Learned**"
      ]
    },
    {
      "cell_type": "markdown",
      "metadata": {
        "id": "mY4u-Zgs-xGl"
      },
      "source": [
        "\n",
        " 1. Data Preparation:\n",
        "\n",
        "* Identified and handled missing values using median/mode imputation\n",
        "\n",
        "* Performed exploratory data analysis (EDA) to uncover data insights\n",
        "\n",
        "* Visualized patterns in credit behavior using plots and charts\n",
        "\n",
        "2. Feature Engineering:\n",
        "\n",
        "* Created meaningful features from raw data\n",
        "\n",
        "* Converted categorical variables and handled skewed distributions\n",
        "\n",
        "3. Model Building:\n",
        "\n",
        "* Used pipelines to train and evaluate three classification algorithms: Logistic Regression, Decision Tree, Random Forest\n",
        "\n",
        "4. Feature Scaling:\n",
        "\n",
        "* Standardized features to improve model performance\n",
        "\n",
        "5. Model Evaluation:\n",
        "\n",
        "* Assessed models using accuracy, precision, recall, and F1-score\n",
        "\n",
        "* Interpreted classification results in a business context\n",
        "\n"
      ]
    },
    {
      "cell_type": "markdown",
      "metadata": {
        "id": "tzOpHgyw_zHn"
      },
      "source": [
        "# **Tools and Libraries Used**"
      ]
    },
    {
      "cell_type": "markdown",
      "metadata": {
        "id": "qKg3MGii_0yq"
      },
      "source": [
        "* Python 3.x\n",
        "\n",
        "* Pandas for data manipulation\n",
        "\n",
        "* Matplotlib & Seaborn for visualization\n",
        "\n",
        "* Scikit-learn for preprocessing, modeling, and evaluation"
      ]
    },
    {
      "cell_type": "markdown",
      "metadata": {
        "id": "RWLKEX_1_81a"
      },
      "source": [
        "# **Step-by-Step Workflow**"
      ]
    },
    {
      "cell_type": "markdown",
      "metadata": {
        "id": "nJK2Pt52rdfl"
      },
      "source": [
        "# **Step 1: Load the Dataset**"
      ]
    },
    {
      "cell_type": "code",
      "execution_count": 10,
      "metadata": {},
      "outputs": [
        {
          "name": "stdout",
          "output_type": "stream",
          "text": [
            "Requirement already satisfied: matplotlib in c:\\users\\dell\\appdata\\local\\programs\\python\\python313\\lib\\site-packages (3.10.3)\n",
            "Requirement already satisfied: seaborn in c:\\users\\dell\\appdata\\local\\programs\\python\\python313\\lib\\site-packages (0.13.2)\n",
            "Requirement already satisfied: contourpy>=1.0.1 in c:\\users\\dell\\appdata\\local\\programs\\python\\python313\\lib\\site-packages (from matplotlib) (1.3.2)\n",
            "Requirement already satisfied: cycler>=0.10 in c:\\users\\dell\\appdata\\local\\programs\\python\\python313\\lib\\site-packages (from matplotlib) (0.12.1)\n",
            "Requirement already satisfied: fonttools>=4.22.0 in c:\\users\\dell\\appdata\\local\\programs\\python\\python313\\lib\\site-packages (from matplotlib) (4.58.2)\n",
            "Requirement already satisfied: kiwisolver>=1.3.1 in c:\\users\\dell\\appdata\\local\\programs\\python\\python313\\lib\\site-packages (from matplotlib) (1.4.8)\n",
            "Requirement already satisfied: numpy>=1.23 in c:\\users\\dell\\appdata\\local\\programs\\python\\python313\\lib\\site-packages (from matplotlib) (2.3.0)\n",
            "Requirement already satisfied: packaging>=20.0 in c:\\users\\dell\\appdata\\roaming\\python\\python313\\site-packages (from matplotlib) (25.0)\n",
            "Requirement already satisfied: pillow>=8 in c:\\users\\dell\\appdata\\local\\programs\\python\\python313\\lib\\site-packages (from matplotlib) (11.2.1)\n",
            "Requirement already satisfied: pyparsing>=2.3.1 in c:\\users\\dell\\appdata\\local\\programs\\python\\python313\\lib\\site-packages (from matplotlib) (3.2.3)\n",
            "Requirement already satisfied: python-dateutil>=2.7 in c:\\users\\dell\\appdata\\roaming\\python\\python313\\site-packages (from matplotlib) (2.9.0.post0)\n",
            "Requirement already satisfied: pandas>=1.2 in c:\\users\\dell\\appdata\\local\\programs\\python\\python313\\lib\\site-packages (from seaborn) (2.3.0)\n",
            "Requirement already satisfied: pytz>=2020.1 in c:\\users\\dell\\appdata\\local\\programs\\python\\python313\\lib\\site-packages (from pandas>=1.2->seaborn) (2025.2)\n",
            "Requirement already satisfied: tzdata>=2022.7 in c:\\users\\dell\\appdata\\local\\programs\\python\\python313\\lib\\site-packages (from pandas>=1.2->seaborn) (2025.2)\n",
            "Requirement already satisfied: six>=1.5 in c:\\users\\dell\\appdata\\roaming\\python\\python313\\site-packages (from python-dateutil>=2.7->matplotlib) (1.17.0)\n",
            "Note: you may need to restart the kernel to use updated packages.\n"
          ]
        },
        {
          "name": "stderr",
          "output_type": "stream",
          "text": [
            "\n",
            "[notice] A new release of pip is available: 25.0.1 -> 25.1.1\n",
            "[notice] To update, run: python.exe -m pip install --upgrade pip\n"
          ]
        }
      ],
      "source": [
        "# Install required libraries\n",
        "%pip install matplotlib seaborn"
      ]
    },
    {
      "cell_type": "code",
      "execution_count": 11,
      "metadata": {
        "colab": {
          "base_uri": "https://localhost:8080/"
        },
        "id": "ngar7o2AsZhG",
        "outputId": "29c4d35f-9bb3-4e95-dbc0-df1437b92608"
      },
      "outputs": [
        {
          "name": "stdout",
          "output_type": "stream",
          "text": [
            "Requirement already satisfied: gdown in c:\\users\\dell\\appdata\\local\\programs\\python\\python313\\lib\\site-packages (5.2.0)\n",
            "Requirement already satisfied: beautifulsoup4 in c:\\users\\dell\\appdata\\local\\programs\\python\\python313\\lib\\site-packages (from gdown) (4.13.4)\n",
            "Requirement already satisfied: filelock in c:\\users\\dell\\appdata\\local\\programs\\python\\python313\\lib\\site-packages (from gdown) (3.18.0)\n",
            "Requirement already satisfied: requests[socks] in c:\\users\\dell\\appdata\\local\\programs\\python\\python313\\lib\\site-packages (from gdown) (2.32.3)\n",
            "Requirement already satisfied: tqdm in c:\\users\\dell\\appdata\\local\\programs\\python\\python313\\lib\\site-packages (from gdown) (4.67.1)\n",
            "Requirement already satisfied: soupsieve>1.2 in c:\\users\\dell\\appdata\\local\\programs\\python\\python313\\lib\\site-packages (from beautifulsoup4->gdown) (2.7)\n",
            "Requirement already satisfied: typing-extensions>=4.0.0 in c:\\users\\dell\\appdata\\local\\programs\\python\\python313\\lib\\site-packages (from beautifulsoup4->gdown) (4.14.0)\n",
            "Requirement already satisfied: charset-normalizer<4,>=2 in c:\\users\\dell\\appdata\\local\\programs\\python\\python313\\lib\\site-packages (from requests[socks]->gdown) (3.4.2)\n",
            "Requirement already satisfied: idna<4,>=2.5 in c:\\users\\dell\\appdata\\local\\programs\\python\\python313\\lib\\site-packages (from requests[socks]->gdown) (3.10)\n",
            "Requirement already satisfied: urllib3<3,>=1.21.1 in c:\\users\\dell\\appdata\\local\\programs\\python\\python313\\lib\\site-packages (from requests[socks]->gdown) (2.4.0)\n",
            "Requirement already satisfied: certifi>=2017.4.17 in c:\\users\\dell\\appdata\\local\\programs\\python\\python313\\lib\\site-packages (from requests[socks]->gdown) (2025.4.26)\n",
            "Requirement already satisfied: PySocks!=1.5.7,>=1.5.6 in c:\\users\\dell\\appdata\\local\\programs\\python\\python313\\lib\\site-packages (from requests[socks]->gdown) (1.7.1)\n",
            "Requirement already satisfied: colorama in c:\\users\\dell\\appdata\\local\\programs\\python\\python313\\lib\\site-packages (from tqdm->gdown) (0.4.6)\n",
            "Note: you may need to restart the kernel to use updated packages.\n"
          ]
        },
        {
          "name": "stderr",
          "output_type": "stream",
          "text": [
            "\n",
            "[notice] A new release of pip is available: 25.0.1 -> 25.1.1\n",
            "[notice] To update, run: python.exe -m pip install --upgrade pip\n"
          ]
        }
      ],
      "source": [
        "%pip install gdown\n"
      ]
    },
    {
      "cell_type": "code",
      "execution_count": 12,
      "metadata": {
        "colab": {
          "base_uri": "https://localhost:8080/",
          "height": 105
        },
        "id": "hfHaZhmsrUzG",
        "outputId": "932a7e54-20d1-4179-b2c8-706e9b3f522a"
      },
      "outputs": [
        {
          "name": "stderr",
          "output_type": "stream",
          "text": [
            "Downloading...\n",
            "From: https://drive.google.com/uc?id=1rliGZ-tW5xV0SvFsZ6lyQccwWPnhe2wG\n",
            "To: c:\\Users\\DELL\\OneDrive\\Desktop\\Credit_Scoring _Project\\data\\loan_data.csv\n",
            "100%|██████████| 52.4k/52.4k [00:00<00:00, 2.27MB/s]\n"
          ]
        },
        {
          "data": {
            "text/plain": [
              "'../data\\\\loan_data.csv'"
            ]
          },
          "execution_count": 12,
          "metadata": {},
          "output_type": "execute_result"
        }
      ],
      "source": [
        "import os\n",
        "\n",
        "# Create the directory if it doesn't exist\n",
        "output_dir = '../data'\n",
        "if not os.path.exists(output_dir):\n",
        "    os.makedirs(output_dir)\n",
        "\n",
        "import gdown\n",
        "# File ID from Google Drive share link\n",
        "file_id = '1rliGZ-tW5xV0SvFsZ6lyQccwWPnhe2wG'\n",
        "url = f'https://drive.google.com/uc?id={file_id}'\n",
        "output = os.path.join(output_dir, 'loan_data.csv')\n",
        "gdown.download(url, output, quiet=False)\n"
      ]
    },
    {
      "cell_type": "code",
      "execution_count": 13,
      "metadata": {},
      "outputs": [
        {
          "name": "stdout",
          "output_type": "stream",
          "text": [
            "File already exists: ../data\\loan_data.csv\n"
          ]
        }
      ],
      "source": [
        "import os\n",
        "import gdown\n",
        "\n",
        "output_dir = '../data'\n",
        "output = os.path.join(output_dir, 'loan_data.csv')\n",
        "file_id = '1rliGZ-tW5xV0SvFsZ6lyQccwWPnhe2wG'\n",
        "url = f'https://drive.google.com/uc?id={file_id}'\n",
        "\n",
        "if not os.path.exists(output):\n",
        "    if not os.path.exists(output_dir):\n",
        "        os.makedirs(output_dir)\n",
        "    gdown.download(url, output, quiet=False)\n",
        "else:\n",
        "    print(\"File already exists:\", output)"
      ]
    },
    {
      "cell_type": "code",
      "execution_count": 14,
      "metadata": {},
      "outputs": [
        {
          "data": {
            "text/html": [
              "<div>\n",
              "<style scoped>\n",
              "    .dataframe tbody tr th:only-of-type {\n",
              "        vertical-align: middle;\n",
              "    }\n",
              "\n",
              "    .dataframe tbody tr th {\n",
              "        vertical-align: top;\n",
              "    }\n",
              "\n",
              "    .dataframe thead th {\n",
              "        text-align: right;\n",
              "    }\n",
              "</style>\n",
              "<table border=\"1\" class=\"dataframe\">\n",
              "  <thead>\n",
              "    <tr style=\"text-align: right;\">\n",
              "      <th></th>\n",
              "      <th>income</th>\n",
              "      <th>loan_amount</th>\n",
              "      <th>term</th>\n",
              "      <th>credit_history</th>\n",
              "      <th>defaulted</th>\n",
              "    </tr>\n",
              "  </thead>\n",
              "  <tbody>\n",
              "    <tr>\n",
              "      <th>0</th>\n",
              "      <td>60940.854754</td>\n",
              "      <td>17402.715471</td>\n",
              "      <td>60</td>\n",
              "      <td>1.0</td>\n",
              "      <td>1</td>\n",
              "    </tr>\n",
              "    <tr>\n",
              "      <th>1</th>\n",
              "      <td>49511.242579</td>\n",
              "      <td>6664.626123</td>\n",
              "      <td>36</td>\n",
              "      <td>0.0</td>\n",
              "      <td>0</td>\n",
              "    </tr>\n",
              "    <tr>\n",
              "      <th>2</th>\n",
              "      <td>63658.393686</td>\n",
              "      <td>17985.281393</td>\n",
              "      <td>60</td>\n",
              "      <td>0.0</td>\n",
              "      <td>1</td>\n",
              "    </tr>\n",
              "    <tr>\n",
              "      <th>3</th>\n",
              "      <td>79414.537415</td>\n",
              "      <td>21001.173770</td>\n",
              "      <td>36</td>\n",
              "      <td>1.0</td>\n",
              "      <td>0</td>\n",
              "    </tr>\n",
              "    <tr>\n",
              "      <th>4</th>\n",
              "      <td>47785.239255</td>\n",
              "      <td>4037.586145</td>\n",
              "      <td>36</td>\n",
              "      <td>1.0</td>\n",
              "      <td>0</td>\n",
              "    </tr>\n",
              "  </tbody>\n",
              "</table>\n",
              "</div>"
            ],
            "text/plain": [
              "         income   loan_amount  term  credit_history  defaulted\n",
              "0  60940.854754  17402.715471    60             1.0          1\n",
              "1  49511.242579   6664.626123    36             0.0          0\n",
              "2  63658.393686  17985.281393    60             0.0          1\n",
              "3  79414.537415  21001.173770    36             1.0          0\n",
              "4  47785.239255   4037.586145    36             1.0          0"
            ]
          },
          "execution_count": 14,
          "metadata": {},
          "output_type": "execute_result"
        }
      ],
      "source": [
        "import pandas as pd\n",
        "# Load the dataset\n",
        "df = pd.read_csv(output)\n",
        "\n",
        "# Explore the first few rows\n",
        "df.head()"
      ]
    },
    {
      "cell_type": "code",
      "execution_count": 15,
      "metadata": {},
      "outputs": [
        {
          "name": "stderr",
          "output_type": "stream",
          "text": [
            "Downloading...\n",
            "From: https://drive.google.com/uc?id=1rliGZ-tW5xV0SvFsZ6lyQccwWPnhe2wG\n",
            "To: c:\\Users\\DELL\\OneDrive\\Desktop\\Credit_Scoring _Project\\data\\loan_data.csv\n",
            "100%|██████████| 52.4k/52.4k [00:00<00:00, 587kB/s]\n"
          ]
        },
        {
          "data": {
            "text/plain": [
              "'../data\\\\loan_data.csv'"
            ]
          },
          "execution_count": 15,
          "metadata": {},
          "output_type": "execute_result"
        }
      ],
      "source": [
        "import os\n",
        "\n",
        "# Create the directory if it doesn't exist\n",
        "output_dir = '../data'\n",
        "if not os.path.exists(output_dir):\n",
        "    os.makedirs(output_dir)\n",
        "\n",
        "import gdown\n",
        "# File ID from Google Drive share link\n",
        "file_id = '1rliGZ-tW5xV0SvFsZ6lyQccwWPnhe2wG'\n",
        "url = f'https://drive.google.com/uc?id={file_id}'\n",
        "output = os.path.join(output_dir, 'loan_data.csv')\n",
        "gdown.download(url, output, quiet=False)"
      ]
    },
    {
      "cell_type": "code",
      "execution_count": 16,
      "metadata": {
        "id": "7f65c2e0"
      },
      "outputs": [],
      "source": [
        "import os\n",
        "\n",
        "# Create the directory if it doesn't exist\n",
        "output_dir = '../data'\n",
        "if not os.path.exists(output_dir):\n",
        "    os.makedirs(output_dir)"
      ]
    },
    {
      "cell_type": "code",
      "execution_count": 17,
      "metadata": {
        "colab": {
          "base_uri": "https://localhost:8080/",
          "height": 206
        },
        "id": "XKn4LnuqstV8",
        "outputId": "4150f1d0-e975-4790-f1f5-d7102af9b24e"
      },
      "outputs": [
        {
          "data": {
            "text/html": [
              "<div>\n",
              "<style scoped>\n",
              "    .dataframe tbody tr th:only-of-type {\n",
              "        vertical-align: middle;\n",
              "    }\n",
              "\n",
              "    .dataframe tbody tr th {\n",
              "        vertical-align: top;\n",
              "    }\n",
              "\n",
              "    .dataframe thead th {\n",
              "        text-align: right;\n",
              "    }\n",
              "</style>\n",
              "<table border=\"1\" class=\"dataframe\">\n",
              "  <thead>\n",
              "    <tr style=\"text-align: right;\">\n",
              "      <th></th>\n",
              "      <th>income</th>\n",
              "      <th>loan_amount</th>\n",
              "      <th>term</th>\n",
              "      <th>credit_history</th>\n",
              "      <th>defaulted</th>\n",
              "    </tr>\n",
              "  </thead>\n",
              "  <tbody>\n",
              "    <tr>\n",
              "      <th>0</th>\n",
              "      <td>60940.854754</td>\n",
              "      <td>17402.715471</td>\n",
              "      <td>60</td>\n",
              "      <td>1.0</td>\n",
              "      <td>1</td>\n",
              "    </tr>\n",
              "    <tr>\n",
              "      <th>1</th>\n",
              "      <td>49511.242579</td>\n",
              "      <td>6664.626123</td>\n",
              "      <td>36</td>\n",
              "      <td>0.0</td>\n",
              "      <td>0</td>\n",
              "    </tr>\n",
              "    <tr>\n",
              "      <th>2</th>\n",
              "      <td>63658.393686</td>\n",
              "      <td>17985.281393</td>\n",
              "      <td>60</td>\n",
              "      <td>0.0</td>\n",
              "      <td>1</td>\n",
              "    </tr>\n",
              "    <tr>\n",
              "      <th>3</th>\n",
              "      <td>79414.537415</td>\n",
              "      <td>21001.173770</td>\n",
              "      <td>36</td>\n",
              "      <td>1.0</td>\n",
              "      <td>0</td>\n",
              "    </tr>\n",
              "    <tr>\n",
              "      <th>4</th>\n",
              "      <td>47785.239255</td>\n",
              "      <td>4037.586145</td>\n",
              "      <td>36</td>\n",
              "      <td>1.0</td>\n",
              "      <td>0</td>\n",
              "    </tr>\n",
              "  </tbody>\n",
              "</table>\n",
              "</div>"
            ],
            "text/plain": [
              "         income   loan_amount  term  credit_history  defaulted\n",
              "0  60940.854754  17402.715471    60             1.0          1\n",
              "1  49511.242579   6664.626123    36             0.0          0\n",
              "2  63658.393686  17985.281393    60             0.0          1\n",
              "3  79414.537415  21001.173770    36             1.0          0\n",
              "4  47785.239255   4037.586145    36             1.0          0"
            ]
          },
          "execution_count": 17,
          "metadata": {},
          "output_type": "execute_result"
        }
      ],
      "source": [
        "import pandas as pd\n",
        "# Load the dataset\n",
        "df = pd.read_csv('../data/loan_data.csv')\n",
        "\n",
        "# Explore the first few rows\n",
        "df.head()"
      ]
    },
    {
      "cell_type": "markdown",
      "metadata": {
        "id": "hfCCoWIltC0A"
      },
      "source": [
        "# **Step 2: Understand the data type and shape of the dataset**"
      ]
    },
    {
      "cell_type": "code",
      "execution_count": 18,
      "metadata": {
        "colab": {
          "base_uri": "https://localhost:8080/"
        },
        "id": "ywkw__Ybs0CQ",
        "outputId": "ccc1afca-d99e-4418-a824-de81880aecd3"
      },
      "outputs": [
        {
          "data": {
            "text/plain": [
              "(1248, 5)"
            ]
          },
          "execution_count": 18,
          "metadata": {},
          "output_type": "execute_result"
        }
      ],
      "source": [
        "df.shape"
      ]
    },
    {
      "cell_type": "code",
      "execution_count": 19,
      "metadata": {
        "colab": {
          "base_uri": "https://localhost:8080/",
          "height": 241
        },
        "id": "DYYFOsXgtNVo",
        "outputId": "0415a303-149e-48b7-e83b-b163c0f37773"
      },
      "outputs": [
        {
          "data": {
            "text/plain": [
              "income            float64\n",
              "loan_amount       float64\n",
              "term                int64\n",
              "credit_history    float64\n",
              "defaulted           int64\n",
              "dtype: object"
            ]
          },
          "execution_count": 19,
          "metadata": {},
          "output_type": "execute_result"
        }
      ],
      "source": [
        "df.dtypes"
      ]
    },
    {
      "cell_type": "markdown",
      "metadata": {
        "id": "EbVO5dW9tVVh"
      },
      "source": [
        "# **Step 3: Preprocessing data**"
      ]
    },
    {
      "cell_type": "markdown",
      "metadata": {
        "id": "NZzzCLshtkdJ"
      },
      "source": [
        "1.Check for missing values"
      ]
    },
    {
      "cell_type": "code",
      "execution_count": 20,
      "metadata": {
        "colab": {
          "base_uri": "https://localhost:8080/",
          "height": 241
        },
        "id": "BWVnjL0mtSLO",
        "outputId": "264cd138-52ba-4f61-b9da-636390707d2a"
      },
      "outputs": [
        {
          "data": {
            "text/plain": [
              "income            120\n",
              "loan_amount       122\n",
              "term                0\n",
              "credit_history    112\n",
              "defaulted           0\n",
              "dtype: int64"
            ]
          },
          "execution_count": 20,
          "metadata": {},
          "output_type": "execute_result"
        }
      ],
      "source": [
        "df.isnull().sum()"
      ]
    },
    {
      "cell_type": "markdown",
      "metadata": {
        "id": "x6f8zEm-tm6c"
      },
      "source": [
        "2.Mean or Median Imputation"
      ]
    },
    {
      "cell_type": "code",
      "execution_count": 21,
      "metadata": {
        "id": "u0oQgmgStb5U"
      },
      "outputs": [],
      "source": [
        "df.fillna({'income':df['income'].median()}, inplace=True)\n",
        "df.fillna({'loan_amount':df['loan_amount'].median()}, inplace=True)"
      ]
    },
    {
      "cell_type": "code",
      "execution_count": 22,
      "metadata": {
        "id": "ETHkV4eNt0An"
      },
      "outputs": [],
      "source": [
        "df.fillna({'credit_history':df['credit_history'].mode()[0]}, inplace=True)"
      ]
    },
    {
      "cell_type": "code",
      "execution_count": 23,
      "metadata": {
        "colab": {
          "base_uri": "https://localhost:8080/",
          "height": 241
        },
        "id": "926Op7RhuHdi",
        "outputId": "c13bc908-131e-43d6-8146-fb821f96d9ef"
      },
      "outputs": [
        {
          "data": {
            "text/plain": [
              "income            0\n",
              "loan_amount       0\n",
              "term              0\n",
              "credit_history    0\n",
              "defaulted         0\n",
              "dtype: int64"
            ]
          },
          "execution_count": 23,
          "metadata": {},
          "output_type": "execute_result"
        }
      ],
      "source": [
        "df.isnull().sum()"
      ]
    },
    {
      "cell_type": "markdown",
      "metadata": {
        "id": "atUczjRBuNSc"
      },
      "source": [
        "3. Summary statistics"
      ]
    },
    {
      "cell_type": "code",
      "execution_count": 24,
      "metadata": {
        "colab": {
          "base_uri": "https://localhost:8080/",
          "height": 300
        },
        "id": "STHAh1zruJTR",
        "outputId": "e1ed34cf-3198-4eb1-ee8a-769c7597a952"
      },
      "outputs": [
        {
          "data": {
            "text/html": [
              "<div>\n",
              "<style scoped>\n",
              "    .dataframe tbody tr th:only-of-type {\n",
              "        vertical-align: middle;\n",
              "    }\n",
              "\n",
              "    .dataframe tbody tr th {\n",
              "        vertical-align: top;\n",
              "    }\n",
              "\n",
              "    .dataframe thead th {\n",
              "        text-align: right;\n",
              "    }\n",
              "</style>\n",
              "<table border=\"1\" class=\"dataframe\">\n",
              "  <thead>\n",
              "    <tr style=\"text-align: right;\">\n",
              "      <th></th>\n",
              "      <th>income</th>\n",
              "      <th>loan_amount</th>\n",
              "      <th>term</th>\n",
              "      <th>credit_history</th>\n",
              "      <th>defaulted</th>\n",
              "    </tr>\n",
              "  </thead>\n",
              "  <tbody>\n",
              "    <tr>\n",
              "      <th>count</th>\n",
              "      <td>1248.000000</td>\n",
              "      <td>1248.000000</td>\n",
              "      <td>1248.000000</td>\n",
              "      <td>1248.000000</td>\n",
              "      <td>1248.000000</td>\n",
              "    </tr>\n",
              "    <tr>\n",
              "      <th>mean</th>\n",
              "      <td>52500.945298</td>\n",
              "      <td>16167.787505</td>\n",
              "      <td>48.000000</td>\n",
              "      <td>0.771635</td>\n",
              "      <td>0.414263</td>\n",
              "    </tr>\n",
              "    <tr>\n",
              "      <th>std</th>\n",
              "      <td>16967.161028</td>\n",
              "      <td>5541.521139</td>\n",
              "      <td>12.004811</td>\n",
              "      <td>0.419948</td>\n",
              "      <td>0.492792</td>\n",
              "    </tr>\n",
              "    <tr>\n",
              "      <th>min</th>\n",
              "      <td>8000.000000</td>\n",
              "      <td>1000.000000</td>\n",
              "      <td>36.000000</td>\n",
              "      <td>0.000000</td>\n",
              "      <td>0.000000</td>\n",
              "    </tr>\n",
              "    <tr>\n",
              "      <th>25%</th>\n",
              "      <td>41673.912889</td>\n",
              "      <td>12772.722413</td>\n",
              "      <td>36.000000</td>\n",
              "      <td>1.000000</td>\n",
              "      <td>0.000000</td>\n",
              "    </tr>\n",
              "    <tr>\n",
              "      <th>50%</th>\n",
              "      <td>52462.564119</td>\n",
              "      <td>16052.247335</td>\n",
              "      <td>48.000000</td>\n",
              "      <td>1.000000</td>\n",
              "      <td>0.000000</td>\n",
              "    </tr>\n",
              "    <tr>\n",
              "      <th>75%</th>\n",
              "      <td>62987.634437</td>\n",
              "      <td>19610.211517</td>\n",
              "      <td>60.000000</td>\n",
              "      <td>1.000000</td>\n",
              "      <td>1.000000</td>\n",
              "    </tr>\n",
              "    <tr>\n",
              "      <th>max</th>\n",
              "      <td>121349.166832</td>\n",
              "      <td>35158.645407</td>\n",
              "      <td>60.000000</td>\n",
              "      <td>1.000000</td>\n",
              "      <td>1.000000</td>\n",
              "    </tr>\n",
              "  </tbody>\n",
              "</table>\n",
              "</div>"
            ],
            "text/plain": [
              "              income   loan_amount         term  credit_history    defaulted\n",
              "count    1248.000000   1248.000000  1248.000000     1248.000000  1248.000000\n",
              "mean    52500.945298  16167.787505    48.000000        0.771635     0.414263\n",
              "std     16967.161028   5541.521139    12.004811        0.419948     0.492792\n",
              "min      8000.000000   1000.000000    36.000000        0.000000     0.000000\n",
              "25%     41673.912889  12772.722413    36.000000        1.000000     0.000000\n",
              "50%     52462.564119  16052.247335    48.000000        1.000000     0.000000\n",
              "75%     62987.634437  19610.211517    60.000000        1.000000     1.000000\n",
              "max    121349.166832  35158.645407    60.000000        1.000000     1.000000"
            ]
          },
          "execution_count": 24,
          "metadata": {},
          "output_type": "execute_result"
        }
      ],
      "source": [
        "df.describe()"
      ]
    },
    {
      "cell_type": "markdown",
      "metadata": {
        "id": "1zR1MkzeucD4"
      },
      "source": [
        "# **Step 4: Data Visualization**"
      ]
    },
    {
      "cell_type": "markdown",
      "metadata": {
        "id": "DkbJxjgiugZv"
      },
      "source": [
        " 1. Distribution of Numerical Features"
      ]
    },
    {
      "cell_type": "code",
      "execution_count": 25,
      "metadata": {
        "colab": {
          "base_uri": "https://localhost:8080/",
          "height": 401
        },
        "id": "MqyIwxqquVel",
        "outputId": "f30c00a2-323d-42d0-c60a-63666235e23b"
      },
      "outputs": [
        {
          "data": {
            "image/png": "[encoded data removed]",
            "text/plain": [
              "<Figure size 1400x400 with 2 Axes>"
            ]
          },
          "metadata": {},
          "output_type": "display_data"
        }
      ],
      "source": [
        "import matplotlib.pyplot as plt\n",
        "import seaborn as sns\n",
        "\n",
        "# Set Seaborn theme\n",
        "sns.set(style=\"whitegrid\")\n",
        "\n",
        "# Plot distributions\n",
        "fig, axes = plt.subplots(1, 2, figsize=(14, 4))\n",
        "sns.histplot(df['income'], kde=True, bins=30, ax=axes[0])\n",
        "axes[0].set_title(\"Income Distribution\")\n",
        "\n",
        "sns.histplot(df['loan_amount'], kde=True, bins=30, ax=axes[1])\n",
        "axes[1].set_title(\"Loan Amount Distribution\")\n",
        "\n",
        "plt.tight_layout()\n",
        "plt.show()"
      ]
    },
    {
      "cell_type": "markdown",
      "metadata": {
        "id": "o60Xdqi1ux6L"
      },
      "source": [
        " 2. Loan Term count plot"
      ]
    },
    {
      "cell_type": "code",
      "execution_count": 26,
      "metadata": {
        "colab": {
          "base_uri": "https://localhost:8080/",
          "height": 480
        },
        "id": "6SyMtRmQuubS",
        "outputId": "382cff60-75b8-47b0-d505-a508b8137fe2"
      },
      "outputs": [
        {
          "data": {
            "image/png": "[encoded data removed]",
            "text/plain": [
              "<Figure size 640x480 with 1 Axes>"
            ]
          },
          "metadata": {},
          "output_type": "display_data"
        }
      ],
      "source": [
        "sns.countplot(x='term', data=df)\n",
        "plt.title(\"Loan Term Distribution\")\n",
        "plt.xlabel(\"Loan Term (Months)\")\n",
        "plt.ylabel(\"Count\")\n",
        "plt.show()"
      ]
    },
    {
      "cell_type": "markdown",
      "metadata": {
        "id": "PXwPalL7vPHh"
      },
      "source": [
        "3. Credit History vs Defaulted"
      ]
    },
    {
      "cell_type": "code",
      "execution_count": 27,
      "metadata": {
        "colab": {
          "base_uri": "https://localhost:8080/",
          "height": 480
        },
        "id": "2qvKnK9YvLOS",
        "outputId": "95673571-e6ac-4cbe-eec5-b1f9d0494162"
      },
      "outputs": [
        {
          "data": {
            "image/png": "[encoded data removed]",
            "text/plain": [
              "<Figure size 640x480 with 1 Axes>"
            ]
          },
          "metadata": {},
          "output_type": "display_data"
        }
      ],
      "source": [
        "sns.countplot(x='credit_history', hue='defaulted', data=df)\n",
        "plt.title(\"Credit History vs Defaulted\")\n",
        "plt.xlabel(\"Credit History\")\n",
        "plt.ylabel(\"Count\")\n",
        "plt.legend(title='Defaulted')\n",
        "plt.show()"
      ]
    },
    {
      "cell_type": "markdown",
      "metadata": {
        "id": "MPpwg1Otvav8"
      },
      "source": [
        "4. Correlation Heatmap"
      ]
    },
    {
      "cell_type": "code",
      "execution_count": 28,
      "metadata": {
        "colab": {
          "base_uri": "https://localhost:8080/",
          "height": 396
        },
        "id": "gTdiobtNvaII",
        "outputId": "49d7ffc6-7d81-44bf-d630-c0d038987ace"
      },
      "outputs": [
        {
          "data": {
            "image/png": "[encoded data removed]",
            "text/plain": [
              "<Figure size 800x400 with 2 Axes>"
            ]
          },
          "metadata": {},
          "output_type": "display_data"
        }
      ],
      "source": [
        "plt.figure(figsize=(8, 4))\n",
        "sns.heatmap(df.corr(numeric_only=True), annot=True, cmap='coolwarm', fmt=\".2f\")\n",
        "plt.title(\"Feature Correlation Heatmap\")\n",
        "plt.show()"
      ]
    },
    {
      "cell_type": "markdown",
      "metadata": {
        "id": "vK4ue1MWvsVr"
      },
      "source": [
        "# **Step 5: Feature Engineering**"
      ]
    },
    {
      "cell_type": "markdown",
      "metadata": {
        "id": "kEc78tmGvxEt"
      },
      "source": [
        "1. Convert Categorical Features"
      ]
    },
    {
      "cell_type": "code",
      "execution_count": 29,
      "metadata": {
        "id": "UwGcoD5DvjMg"
      },
      "outputs": [],
      "source": [
        "# Binary encoding: 0 for 36 months, 1 for 60 months\n",
        "df['term_binary'] = df['term'].apply(lambda x: 1 if x == 60 else 0)"
      ]
    },
    {
      "cell_type": "markdown",
      "metadata": {
        "id": "29OND5r9wIo5"
      },
      "source": [
        "2. Create Derived Features (Optional but insightful)"
      ]
    },
    {
      "cell_type": "code",
      "execution_count": 30,
      "metadata": {
        "id": "UkFyh93swDfv"
      },
      "outputs": [],
      "source": [
        "import numpy as np\n",
        "# Log-transform skewed features\n",
        "df['log_income'] = np.log1p(df['income'])\n",
        "df['log_loan_amount'] = np.log1p(df['loan_amount'])"
      ]
    },
    {
      "cell_type": "markdown",
      "metadata": {
        "id": "tfgZHN6FwSi7"
      },
      "source": [
        "3. Feature Selection"
      ]
    },
    {
      "cell_type": "code",
      "execution_count": 31,
      "metadata": {
        "colab": {
          "base_uri": "https://localhost:8080/"
        },
        "id": "C0DEyrkTwW4g",
        "outputId": "d24f2edb-5fdf-4adf-9e74-2cad99d7a321"
      },
      "outputs": [
        {
          "data": {
            "text/plain": [
              "['income',\n",
              " 'loan_amount',\n",
              " 'term',\n",
              " 'credit_history',\n",
              " 'defaulted',\n",
              " 'term_binary',\n",
              " 'log_income',\n",
              " 'log_loan_amount']"
            ]
          },
          "execution_count": 31,
          "metadata": {},
          "output_type": "execute_result"
        }
      ],
      "source": [
        "# let's first see the features\n",
        "list(df.columns)"
      ]
    },
    {
      "cell_type": "code",
      "execution_count": 32,
      "metadata": {
        "id": "MzB_uujxwbfx"
      },
      "outputs": [],
      "source": [
        "features = ['log_income', 'log_loan_amount', 'term_binary', 'credit_history']\n",
        "target = 'defaulted'"
      ]
    },
    {
      "cell_type": "markdown",
      "metadata": {
        "id": "AEECNgFEwsbA"
      },
      "source": [
        "# **Step 6: Model Training**"
      ]
    },
    {
      "cell_type": "markdown",
      "metadata": {
        "id": "kxT2BQAvw3gz"
      },
      "source": [
        "1. Feature Scaling"
      ]
    },
    {
      "cell_type": "code",
      "execution_count": 34,
      "metadata": {},
      "outputs": [
        {
          "name": "stdout",
          "output_type": "stream",
          "text": [
            "Collecting scikit-learn\n",
            "  Downloading scikit_learn-1.7.0-cp313-cp313-win_amd64.whl.metadata (14 kB)\n",
            "Requirement already satisfied: numpy>=1.22.0 in c:\\users\\dell\\appdata\\local\\programs\\python\\python313\\lib\\site-packages (from scikit-learn) (2.3.0)\n",
            "Collecting scipy>=1.8.0 (from scikit-learn)\n",
            "  Downloading scipy-1.15.3-cp313-cp313-win_amd64.whl.metadata (60 kB)\n",
            "Collecting joblib>=1.2.0 (from scikit-learn)\n",
            "  Downloading joblib-1.5.1-py3-none-any.whl.metadata (5.6 kB)\n",
            "Collecting threadpoolctl>=3.1.0 (from scikit-learn)\n",
            "  Downloading threadpoolctl-3.6.0-py3-none-any.whl.metadata (13 kB)\n",
            "Downloading scikit_learn-1.7.0-cp313-cp313-win_amd64.whl (10.7 MB)\n",
            "   ---------------------------------------- 0.0/10.7 MB ? eta -:--:--\n",
            "   ---------------------------------------- 0.0/10.7 MB ? eta -:--:--\n",
            "    --------------------------------------- 0.3/10.7 MB ? eta -:--:--\n",
            "   - -------------------------------------- 0.5/10.7 MB 1.1 MB/s eta 0:00:09\n",
            "   -- ------------------------------------- 0.8/10.7 MB 981.5 kB/s eta 0:00:11\n",
            "   --- ------------------------------------ 1.0/10.7 MB 1.0 MB/s eta 0:00:10\n",
            "   ---- ----------------------------------- 1.3/10.7 MB 1.1 MB/s eta 0:00:09\n",
            "   ------ --------------------------------- 1.8/10.7 MB 1.1 MB/s eta 0:00:09\n",
            "   ------- -------------------------------- 2.1/10.7 MB 1.1 MB/s eta 0:00:08\n",
            "   -------- ------------------------------- 2.4/10.7 MB 1.1 MB/s eta 0:00:08\n",
            "   --------- ------------------------------ 2.6/10.7 MB 1.1 MB/s eta 0:00:08\n",
            "   ---------- ----------------------------- 2.9/10.7 MB 1.1 MB/s eta 0:00:07\n",
            "   ----------- ---------------------------- 3.1/10.7 MB 1.1 MB/s eta 0:00:07\n",
            "   ------------- -------------------------- 3.7/10.7 MB 1.2 MB/s eta 0:00:06\n",
            "   -------------- ------------------------- 3.9/10.7 MB 1.2 MB/s eta 0:00:06\n",
            "   --------------- ------------------------ 4.2/10.7 MB 1.2 MB/s eta 0:00:06\n",
            "   ---------------- ----------------------- 4.5/10.7 MB 1.2 MB/s eta 0:00:06\n",
            "   ----------------- ---------------------- 4.7/10.7 MB 1.2 MB/s eta 0:00:05\n",
            "   ------------------ --------------------- 5.0/10.7 MB 1.2 MB/s eta 0:00:05\n",
            "   ------------------- -------------------- 5.2/10.7 MB 1.2 MB/s eta 0:00:05\n",
            "   -------------------- ------------------- 5.5/10.7 MB 1.2 MB/s eta 0:00:05\n",
            "   ---------------------- ----------------- 6.0/10.7 MB 1.2 MB/s eta 0:00:04\n",
            "   ----------------------- ---------------- 6.3/10.7 MB 1.2 MB/s eta 0:00:04\n",
            "   ------------------------ --------------- 6.6/10.7 MB 1.2 MB/s eta 0:00:04\n",
            "   ------------------------- -------------- 6.8/10.7 MB 1.3 MB/s eta 0:00:04\n",
            "   -------------------------- ------------- 7.1/10.7 MB 1.3 MB/s eta 0:00:03\n",
            "   --------------------------- ------------ 7.3/10.7 MB 1.3 MB/s eta 0:00:03\n",
            "   ----------------------------- ---------- 7.9/10.7 MB 1.3 MB/s eta 0:00:03\n",
            "   ------------------------------ --------- 8.1/10.7 MB 1.3 MB/s eta 0:00:02\n",
            "   ------------------------------- -------- 8.4/10.7 MB 1.3 MB/s eta 0:00:02\n",
            "   -------------------------------- ------- 8.7/10.7 MB 1.3 MB/s eta 0:00:02\n",
            "   --------------------------------- ------ 8.9/10.7 MB 1.3 MB/s eta 0:00:02\n",
            "   ----------------------------------- ---- 9.4/10.7 MB 1.3 MB/s eta 0:00:01\n",
            "   ------------------------------------ --- 9.7/10.7 MB 1.3 MB/s eta 0:00:01\n",
            "   ------------------------------------- -- 10.0/10.7 MB 1.3 MB/s eta 0:00:01\n",
            "   -------------------------------------- - 10.2/10.7 MB 1.3 MB/s eta 0:00:01\n",
            "   ---------------------------------------  10.5/10.7 MB 1.3 MB/s eta 0:00:01\n",
            "   ---------------------------------------  10.5/10.7 MB 1.3 MB/s eta 0:00:01\n",
            "   ---------------------------------------  10.5/10.7 MB 1.3 MB/s eta 0:00:01\n",
            "   ---------------------------------------  10.5/10.7 MB 1.3 MB/s eta 0:00:01\n",
            "   ---------------------------------------- 10.7/10.7 MB 1.2 MB/s eta 0:00:00\n",
            "Downloading joblib-1.5.1-py3-none-any.whl (307 kB)\n",
            "Downloading scipy-1.15.3-cp313-cp313-win_amd64.whl (41.0 MB)\n",
            "   ---------------------------------------- 0.0/41.0 MB ? eta -:--:--\n",
            "   ---------------------------------------- 0.3/41.0 MB ? eta -:--:--\n",
            "    --------------------------------------- 0.5/41.0 MB 1.3 MB/s eta 0:00:31\n",
            "   - -------------------------------------- 1.0/41.0 MB 1.6 MB/s eta 0:00:26\n",
            "   - -------------------------------------- 1.3/41.0 MB 1.7 MB/s eta 0:00:24\n",
            "   - -------------------------------------- 1.8/41.0 MB 1.7 MB/s eta 0:00:23\n",
            "   -- ------------------------------------- 2.4/41.0 MB 1.8 MB/s eta 0:00:22\n",
            "   -- ------------------------------------- 2.6/41.0 MB 1.7 MB/s eta 0:00:23\n",
            "   -- ------------------------------------- 2.9/41.0 MB 1.7 MB/s eta 0:00:22\n",
            "   --- ------------------------------------ 3.1/41.0 MB 1.7 MB/s eta 0:00:23\n",
            "   --- ------------------------------------ 3.4/41.0 MB 1.7 MB/s eta 0:00:23\n",
            "   --- ------------------------------------ 3.7/41.0 MB 1.6 MB/s eta 0:00:24\n",
            "   --- ------------------------------------ 3.9/41.0 MB 1.6 MB/s eta 0:00:24\n",
            "   --- ------------------------------------ 3.9/41.0 MB 1.6 MB/s eta 0:00:24\n",
            "   ---- ----------------------------------- 4.5/41.0 MB 1.5 MB/s eta 0:00:26\n",
            "   ---- ----------------------------------- 4.5/41.0 MB 1.5 MB/s eta 0:00:26\n",
            "   ---- ----------------------------------- 5.0/41.0 MB 1.4 MB/s eta 0:00:26\n",
            "   ----- ---------------------------------- 5.2/41.0 MB 1.4 MB/s eta 0:00:25\n",
            "   ----- ---------------------------------- 5.8/41.0 MB 1.5 MB/s eta 0:00:24\n",
            "   ----- ---------------------------------- 6.0/41.0 MB 1.5 MB/s eta 0:00:24\n",
            "   ------ --------------------------------- 6.6/41.0 MB 1.5 MB/s eta 0:00:24\n",
            "   ------ --------------------------------- 6.8/41.0 MB 1.5 MB/s eta 0:00:24\n",
            "   ------- -------------------------------- 7.3/41.0 MB 1.5 MB/s eta 0:00:23\n",
            "   ------- -------------------------------- 7.6/41.0 MB 1.5 MB/s eta 0:00:23\n",
            "   ------- -------------------------------- 8.1/41.0 MB 1.5 MB/s eta 0:00:22\n",
            "   -------- ------------------------------- 8.4/41.0 MB 1.5 MB/s eta 0:00:22\n",
            "   -------- ------------------------------- 8.9/41.0 MB 1.6 MB/s eta 0:00:21\n",
            "   -------- ------------------------------- 9.2/41.0 MB 1.6 MB/s eta 0:00:21\n",
            "   --------- ------------------------------ 9.7/41.0 MB 1.6 MB/s eta 0:00:20\n",
            "   --------- ------------------------------ 10.2/41.0 MB 1.6 MB/s eta 0:00:20\n",
            "   ---------- ----------------------------- 10.7/41.0 MB 1.6 MB/s eta 0:00:19\n",
            "   ----------- ---------------------------- 11.3/41.0 MB 1.6 MB/s eta 0:00:19\n",
            "   ----------- ---------------------------- 11.5/41.0 MB 1.7 MB/s eta 0:00:18\n",
            "   ----------- ---------------------------- 12.1/41.0 MB 1.7 MB/s eta 0:00:18\n",
            "   ------------ --------------------------- 12.3/41.0 MB 1.7 MB/s eta 0:00:18\n",
            "   ------------ --------------------------- 12.8/41.0 MB 1.7 MB/s eta 0:00:17\n",
            "   ------------- -------------------------- 13.4/41.0 MB 1.7 MB/s eta 0:00:17\n",
            "   ------------- -------------------------- 13.6/41.0 MB 1.7 MB/s eta 0:00:17\n",
            "   ------------- -------------------------- 13.9/41.0 MB 1.7 MB/s eta 0:00:17\n",
            "   -------------- ------------------------- 14.4/41.0 MB 1.7 MB/s eta 0:00:16\n",
            "   -------------- ------------------------- 14.7/41.0 MB 1.7 MB/s eta 0:00:16\n",
            "   -------------- ------------------------- 14.9/41.0 MB 1.7 MB/s eta 0:00:16\n",
            "   --------------- ------------------------ 15.5/41.0 MB 1.7 MB/s eta 0:00:16\n",
            "   --------------- ------------------------ 16.0/41.0 MB 1.7 MB/s eta 0:00:15\n",
            "   --------------- ------------------------ 16.3/41.0 MB 1.7 MB/s eta 0:00:15\n",
            "   ---------------- ----------------------- 16.5/41.0 MB 1.7 MB/s eta 0:00:15\n",
            "   ---------------- ----------------------- 17.0/41.0 MB 1.7 MB/s eta 0:00:15\n",
            "   ---------------- ----------------------- 17.3/41.0 MB 1.7 MB/s eta 0:00:14\n",
            "   ----------------- ---------------------- 17.8/41.0 MB 1.7 MB/s eta 0:00:14\n",
            "   ----------------- ---------------------- 18.1/41.0 MB 1.7 MB/s eta 0:00:14\n",
            "   ------------------ --------------------- 18.6/41.0 MB 1.7 MB/s eta 0:00:14\n",
            "   ------------------ --------------------- 18.9/41.0 MB 1.7 MB/s eta 0:00:14\n",
            "   ------------------ --------------------- 19.1/41.0 MB 1.7 MB/s eta 0:00:13\n",
            "   ------------------- -------------------- 19.7/41.0 MB 1.7 MB/s eta 0:00:13\n",
            "   ------------------- -------------------- 19.9/41.0 MB 1.7 MB/s eta 0:00:13\n",
            "   ------------------- -------------------- 20.2/41.0 MB 1.7 MB/s eta 0:00:13\n",
            "   -------------------- ------------------- 20.7/41.0 MB 1.7 MB/s eta 0:00:12\n",
            "   -------------------- ------------------- 21.0/41.0 MB 1.7 MB/s eta 0:00:12\n",
            "   -------------------- ------------------- 21.5/41.0 MB 1.7 MB/s eta 0:00:12\n",
            "   --------------------- ------------------ 21.8/41.0 MB 1.7 MB/s eta 0:00:12\n",
            "   --------------------- ------------------ 22.0/41.0 MB 1.7 MB/s eta 0:00:12\n",
            "   ---------------------- ----------------- 22.5/41.0 MB 1.7 MB/s eta 0:00:11\n",
            "   ---------------------- ----------------- 22.8/41.0 MB 1.7 MB/s eta 0:00:11\n",
            "   ---------------------- ----------------- 23.3/41.0 MB 1.7 MB/s eta 0:00:11\n",
            "   ----------------------- ---------------- 23.6/41.0 MB 1.7 MB/s eta 0:00:11\n",
            "   ----------------------- ---------------- 23.9/41.0 MB 1.7 MB/s eta 0:00:11\n",
            "   ----------------------- ---------------- 24.1/41.0 MB 1.7 MB/s eta 0:00:10\n",
            "   ------------------------ --------------- 24.6/41.0 MB 1.7 MB/s eta 0:00:10\n",
            "   ------------------------ --------------- 24.9/41.0 MB 1.7 MB/s eta 0:00:10\n",
            "   ------------------------ --------------- 25.2/41.0 MB 1.7 MB/s eta 0:00:10\n",
            "   ------------------------ --------------- 25.4/41.0 MB 1.7 MB/s eta 0:00:10\n",
            "   ------------------------- -------------- 26.0/41.0 MB 1.7 MB/s eta 0:00:09\n",
            "   ------------------------- -------------- 26.0/41.0 MB 1.7 MB/s eta 0:00:09\n",
            "   ------------------------- -------------- 26.5/41.0 MB 1.7 MB/s eta 0:00:09\n",
            "   -------------------------- ------------- 27.0/41.0 MB 1.7 MB/s eta 0:00:09\n",
            "   -------------------------- ------------- 27.3/41.0 MB 1.7 MB/s eta 0:00:09\n",
            "   --------------------------- ------------ 27.8/41.0 MB 1.7 MB/s eta 0:00:08\n",
            "   --------------------------- ------------ 28.0/41.0 MB 1.7 MB/s eta 0:00:08\n",
            "   --------------------------- ------------ 28.3/41.0 MB 1.7 MB/s eta 0:00:08\n",
            "   ---------------------------- ----------- 28.8/41.0 MB 1.7 MB/s eta 0:00:08\n",
            "   ---------------------------- ----------- 29.1/41.0 MB 1.7 MB/s eta 0:00:08\n",
            "   ----------------------------- ---------- 29.9/41.0 MB 1.7 MB/s eta 0:00:07\n",
            "   ----------------------------- ---------- 30.1/41.0 MB 1.7 MB/s eta 0:00:07\n",
            "   ----------------------------- ---------- 30.7/41.0 MB 1.7 MB/s eta 0:00:07\n",
            "   ------------------------------ --------- 30.9/41.0 MB 1.7 MB/s eta 0:00:06\n",
            "   ------------------------------ --------- 31.5/41.0 MB 1.7 MB/s eta 0:00:06\n",
            "   ------------------------------ --------- 31.7/41.0 MB 1.7 MB/s eta 0:00:06\n",
            "   ------------------------------- -------- 32.5/41.0 MB 1.7 MB/s eta 0:00:05\n",
            "   ------------------------------- -------- 32.8/41.0 MB 1.7 MB/s eta 0:00:05\n",
            "   -------------------------------- ------- 33.3/41.0 MB 1.7 MB/s eta 0:00:05\n",
            "   --------------------------------- ------ 33.8/41.0 MB 1.7 MB/s eta 0:00:05\n",
            "   --------------------------------- ------ 34.3/41.0 MB 1.7 MB/s eta 0:00:04\n",
            "   --------------------------------- ------ 34.6/41.0 MB 1.7 MB/s eta 0:00:04\n",
            "   ---------------------------------- ----- 35.1/41.0 MB 1.7 MB/s eta 0:00:04\n",
            "   ---------------------------------- ----- 35.7/41.0 MB 1.8 MB/s eta 0:00:04\n",
            "   ----------------------------------- ---- 35.9/41.0 MB 1.7 MB/s eta 0:00:03\n",
            "   ----------------------------------- ---- 36.4/41.0 MB 1.8 MB/s eta 0:00:03\n",
            "   ------------------------------------ --- 37.0/41.0 MB 1.8 MB/s eta 0:00:03\n",
            "   ------------------------------------ --- 37.5/41.0 MB 1.8 MB/s eta 0:00:02\n",
            "   ------------------------------------ --- 37.7/41.0 MB 1.8 MB/s eta 0:00:02\n",
            "   ------------------------------------- -- 38.5/41.0 MB 1.8 MB/s eta 0:00:02\n",
            "   ------------------------------------- -- 38.8/41.0 MB 1.8 MB/s eta 0:00:02\n",
            "   -------------------------------------- - 39.6/41.0 MB 1.8 MB/s eta 0:00:01\n",
            "   -------------------------------------- - 39.6/41.0 MB 1.8 MB/s eta 0:00:01\n",
            "   ---------------------------------------  40.4/41.0 MB 1.8 MB/s eta 0:00:01\n",
            "   ---------------------------------------  40.9/41.0 MB 1.8 MB/s eta 0:00:01\n",
            "   ---------------------------------------- 41.0/41.0 MB 1.8 MB/s eta 0:00:00\n",
            "Downloading threadpoolctl-3.6.0-py3-none-any.whl (18 kB)\n",
            "Installing collected packages: threadpoolctl, scipy, joblib, scikit-learn\n",
            "Successfully installed joblib-1.5.1 scikit-learn-1.7.0 scipy-1.15.3 threadpoolctl-3.6.0\n",
            "Note: you may need to restart the kernel to use updated packages.\n"
          ]
        },
        {
          "name": "stderr",
          "output_type": "stream",
          "text": [
            "\n",
            "[notice] A new release of pip is available: 25.0.1 -> 25.1.1\n",
            "[notice] To update, run: python.exe -m pip install --upgrade pip\n"
          ]
        }
      ],
      "source": [
        "%pip install scikit-learn"
      ]
    },
    {
      "cell_type": "code",
      "execution_count": 35,
      "metadata": {
        "colab": {
          "base_uri": "https://localhost:8080/",
          "height": 245
        },
        "id": "2A_37TEwwxRV",
        "outputId": "3128d201-f445-4ec9-eab1-a4c429582e7a"
      },
      "outputs": [
        {
          "data": {
            "text/html": [
              "<div>\n",
              "<style scoped>\n",
              "    .dataframe tbody tr th:only-of-type {\n",
              "        vertical-align: middle;\n",
              "    }\n",
              "\n",
              "    .dataframe tbody tr th {\n",
              "        vertical-align: top;\n",
              "    }\n",
              "\n",
              "    .dataframe thead th {\n",
              "        text-align: right;\n",
              "    }\n",
              "</style>\n",
              "<table border=\"1\" class=\"dataframe\">\n",
              "  <thead>\n",
              "    <tr style=\"text-align: right;\">\n",
              "      <th></th>\n",
              "      <th>income</th>\n",
              "      <th>loan_amount</th>\n",
              "      <th>term</th>\n",
              "      <th>credit_history</th>\n",
              "      <th>defaulted</th>\n",
              "      <th>term_binary</th>\n",
              "      <th>log_income</th>\n",
              "      <th>log_loan_amount</th>\n",
              "    </tr>\n",
              "  </thead>\n",
              "  <tbody>\n",
              "    <tr>\n",
              "      <th>0</th>\n",
              "      <td>60940.854754</td>\n",
              "      <td>17402.715471</td>\n",
              "      <td>60</td>\n",
              "      <td>1.0</td>\n",
              "      <td>1</td>\n",
              "      <td>1</td>\n",
              "      <td>0.555865</td>\n",
              "      <td>0.335135</td>\n",
              "    </tr>\n",
              "    <tr>\n",
              "      <th>1</th>\n",
              "      <td>49511.242579</td>\n",
              "      <td>6664.626123</td>\n",
              "      <td>36</td>\n",
              "      <td>0.0</td>\n",
              "      <td>0</td>\n",
              "      <td>0</td>\n",
              "      <td>0.010029</td>\n",
              "      <td>-1.753786</td>\n",
              "    </tr>\n",
              "    <tr>\n",
              "      <th>2</th>\n",
              "      <td>63658.393686</td>\n",
              "      <td>17985.281393</td>\n",
              "      <td>60</td>\n",
              "      <td>0.0</td>\n",
              "      <td>1</td>\n",
              "      <td>1</td>\n",
              "      <td>0.670515</td>\n",
              "      <td>0.406800</td>\n",
              "    </tr>\n",
              "    <tr>\n",
              "      <th>3</th>\n",
              "      <td>79414.537415</td>\n",
              "      <td>21001.173770</td>\n",
              "      <td>36</td>\n",
              "      <td>1.0</td>\n",
              "      <td>0</td>\n",
              "      <td>0</td>\n",
              "      <td>1.251689</td>\n",
              "      <td>0.744209</td>\n",
              "    </tr>\n",
              "    <tr>\n",
              "      <th>4</th>\n",
              "      <td>47785.239255</td>\n",
              "      <td>4037.586145</td>\n",
              "      <td>36</td>\n",
              "      <td>1.0</td>\n",
              "      <td>0</td>\n",
              "      <td>0</td>\n",
              "      <td>-0.083218</td>\n",
              "      <td>-2.844410</td>\n",
              "    </tr>\n",
              "  </tbody>\n",
              "</table>\n",
              "</div>"
            ],
            "text/plain": [
              "         income   loan_amount  term  credit_history  defaulted  term_binary  \\\n",
              "0  60940.854754  17402.715471    60             1.0          1            1   \n",
              "1  49511.242579   6664.626123    36             0.0          0            0   \n",
              "2  63658.393686  17985.281393    60             0.0          1            1   \n",
              "3  79414.537415  21001.173770    36             1.0          0            0   \n",
              "4  47785.239255   4037.586145    36             1.0          0            0   \n",
              "\n",
              "   log_income  log_loan_amount  \n",
              "0    0.555865         0.335135  \n",
              "1    0.010029        -1.753786  \n",
              "2    0.670515         0.406800  \n",
              "3    1.251689         0.744209  \n",
              "4   -0.083218        -2.844410  "
            ]
          },
          "execution_count": 35,
          "metadata": {},
          "output_type": "execute_result"
        }
      ],
      "source": [
        "# Import StandardScaler\n",
        "from sklearn.preprocessing import StandardScaler\n",
        "\n",
        "# Initialize the scaler\n",
        "scaler = StandardScaler()\n",
        "# Define scaling features\n",
        "scale_features = ['log_income', 'log_loan_amount']\n",
        "# Fit the scaler to our dataset\n",
        "df[scale_features] = scaler.fit_transform(df[scale_features])\n",
        "\n",
        "df.head()"
      ]
    },
    {
      "cell_type": "markdown",
      "metadata": {
        "id": "xpKyn6JtxIPh"
      },
      "source": [
        "2. Train Test Split"
      ]
    },
    {
      "cell_type": "code",
      "execution_count": 36,
      "metadata": {
        "id": "XHCeBVP4xE4_"
      },
      "outputs": [],
      "source": [
        "# Import train_test_split\n",
        "from sklearn.model_selection import train_test_split\n",
        "\n",
        "# Separate features and target variable\n",
        "X = df[features]\n",
        "y = df[target]\n",
        "\n",
        "# Split the dataset\n",
        "X_train, X_test, y_train, y_test = train_test_split(\n",
        "    X, y, test_size=0.2, random_state=42)"
      ]
    },
    {
      "cell_type": "markdown",
      "metadata": {
        "id": "Aw6jLSBqxTPn"
      },
      "source": [
        "3. Build Model Pipeline :\n",
        "To build and evaluate our credit scoring model, we will use three different classification algorithms:\n",
        "\n",
        "Logistic Regression for its interpretability and baseline performance.\n",
        "\n",
        "Decision Tree Classifier for its ability to capture non-linear relationships.\n",
        "\n",
        "Random Forest Classifier for robustness and improved generalization."
      ]
    },
    {
      "cell_type": "code",
      "execution_count": 37,
      "metadata": {
        "id": "_vrphU0qxWuP"
      },
      "outputs": [],
      "source": [
        "# Import Required classess from sklearn\n",
        "from sklearn.pipeline import Pipeline\n",
        "from sklearn.linear_model import LogisticRegression\n",
        "from sklearn.tree import DecisionTreeClassifier\n",
        "from sklearn.ensemble import RandomForestClassifier\n",
        "from sklearn.metrics import classification_report, accuracy_score"
      ]
    },
    {
      "cell_type": "code",
      "execution_count": 38,
      "metadata": {
        "id": "L-S9QVavxn_3"
      },
      "outputs": [],
      "source": [
        "#  Define Classifier Models\n",
        "models = {\n",
        "    'Logistic Regression': LogisticRegression(max_iter=1000, random_state=42),\n",
        "    'Decision Tree': DecisionTreeClassifier(random_state=42),\n",
        "    'Random Forest': RandomForestClassifier(n_estimators=100, random_state=42)\n",
        "}"
      ]
    },
    {
      "cell_type": "code",
      "execution_count": 39,
      "metadata": {
        "colab": {
          "base_uri": "https://localhost:8080/"
        },
        "id": "7biCqES2xvb3",
        "outputId": "7f667869-8f9d-4ed7-d3f3-867873a92e04"
      },
      "outputs": [
        {
          "name": "stdout",
          "output_type": "stream",
          "text": [
            "\n",
            "Model: Logistic Regression\n",
            "\n",
            "Model: Decision Tree\n",
            "\n",
            "Model: Random Forest\n",
            "\n",
            "Saved best model (66.80% accuracy) to model/credit_model.pkl\n"
          ]
        }
      ],
      "source": [
        "# Step 9: Model Training and Evaluation (Updated)\n",
        "best_model = None\n",
        "best_accuracy = 0\n",
        "\n",
        "for name, model in models.items():\n",
        "    print(f\"\\nModel: {name}\")\n",
        "    pipeline = Pipeline([('classifier', model)])\n",
        "    pipeline.fit(X_train, y_train)\n",
        "    \n",
        "    # Evaluate model\n",
        "    y_pred = pipeline.predict(X_test)\n",
        "    acc = accuracy_score(y_test, y_pred)\n",
        "    \n",
        "    # Track best model\n",
        "    if acc > best_accuracy:\n",
        "        best_accuracy = acc\n",
        "        best_model = pipeline\n",
        "\n",
        "# Save the best model\n",
        "import os\n",
        "import pickle\n",
        "\n",
        "model_dir = \"../model\"\n",
        "if not os.path.exists(model_dir):\n",
        "    os.makedirs(model_dir)\n",
        "\n",
        "with open(os.path.join(model_dir, \"credit_model.pkl\"), \"wb\") as f:\n",
        "    pickle.dump(best_model, f)\n",
        "print(f\"\\nSaved best model ({best_accuracy:.2%} accuracy) to model/credit_model.pkl\")\n"
      ]
    }
  ],
  "metadata": {
    "colab": {
      "provenance": []
    },
    "kernelspec": {
      "display_name": "Python 3",
      "name": "python3"
    },
    "language_info": {
      "codemirror_mode": {
        "name": "ipython",
        "version": 3
      },
      "file_extension": ".py",
      "mimetype": "text/x-python",
      "name": "python",
      "nbconvert_exporter": "python",
      "pygments_lexer": "ipython3",
      "version": "3.13.3"
    }
  },
  "nbformat": 4,
  "nbformat_minor": 0
}
